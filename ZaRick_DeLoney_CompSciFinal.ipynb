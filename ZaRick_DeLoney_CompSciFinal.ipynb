{
  "nbformat": 4,
  "nbformat_minor": 0,
  "metadata": {
    "colab": {
      "name": "ZaRick DeLoney - CompSciFinal.ipynb",
      "provenance": []
    },
    "kernelspec": {
      "name": "python3",
      "display_name": "Python 3"
    },
    "language_info": {
      "name": "python"
    }
  },
  "cells": [
    {
      "cell_type": "code",
      "execution_count": 1,
      "metadata": {
        "id": "mhq8Nc1MV4jz",
        "colab": {
          "base_uri": "https://localhost:8080/"
        },
        "outputId": "c56d89a6-683c-437e-a83a-b0fdccc6b88b"
      },
      "outputs": [
        {
          "output_type": "stream",
          "name": "stdout",
          "text": [
            "Looking in indexes: https://pypi.org/simple, https://us-python.pkg.dev/colab-wheels/public/simple/\n",
            "Collecting qiskit\n",
            "  Downloading qiskit-0.36.2.tar.gz (13 kB)\n",
            "Collecting qiskit-terra==0.20.2\n",
            "  Downloading qiskit_terra-0.20.2-cp37-cp37m-manylinux_2_17_x86_64.manylinux2014_x86_64.whl (6.5 MB)\n",
            "\u001b[K     |████████████████████████████████| 6.5 MB 5.1 MB/s \n",
            "\u001b[?25hCollecting qiskit-aer==0.10.4\n",
            "  Downloading qiskit_aer-0.10.4-cp37-cp37m-manylinux_2_12_x86_64.manylinux2010_x86_64.whl (18.0 MB)\n",
            "\u001b[K     |████████████████████████████████| 18.0 MB 42.4 MB/s \n",
            "\u001b[?25hCollecting qiskit-ibmq-provider==0.19.1\n",
            "  Downloading qiskit_ibmq_provider-0.19.1-py3-none-any.whl (240 kB)\n",
            "\u001b[K     |████████████████████████████████| 240 kB 55.2 MB/s \n",
            "\u001b[?25hCollecting qiskit-ignis==0.7.1\n",
            "  Downloading qiskit_ignis-0.7.1-py3-none-any.whl (198 kB)\n",
            "\u001b[K     |████████████████████████████████| 198 kB 58.6 MB/s \n",
            "\u001b[?25hRequirement already satisfied: numpy>=1.16.3 in /usr/local/lib/python3.7/dist-packages (from qiskit-aer==0.10.4->qiskit) (1.21.6)\n",
            "Requirement already satisfied: scipy>=1.0 in /usr/local/lib/python3.7/dist-packages (from qiskit-aer==0.10.4->qiskit) (1.4.1)\n",
            "Collecting websocket-client>=1.0.1\n",
            "  Downloading websocket_client-1.3.2-py3-none-any.whl (54 kB)\n",
            "\u001b[K     |████████████████████████████████| 54 kB 2.2 MB/s \n",
            "\u001b[?25hRequirement already satisfied: python-dateutil>=2.8.0 in /usr/local/lib/python3.7/dist-packages (from qiskit-ibmq-provider==0.19.1->qiskit) (2.8.2)\n",
            "Requirement already satisfied: urllib3>=1.21.1 in /usr/local/lib/python3.7/dist-packages (from qiskit-ibmq-provider==0.19.1->qiskit) (1.24.3)\n",
            "Collecting requests-ntlm>=1.1.0\n",
            "  Downloading requests_ntlm-1.1.0-py2.py3-none-any.whl (5.7 kB)\n",
            "Requirement already satisfied: requests>=2.19 in /usr/local/lib/python3.7/dist-packages (from qiskit-ibmq-provider==0.19.1->qiskit) (2.23.0)\n",
            "Collecting websockets>=10.0\n",
            "  Downloading websockets-10.3-cp37-cp37m-manylinux_2_5_x86_64.manylinux1_x86_64.manylinux_2_12_x86_64.manylinux2010_x86_64.whl (112 kB)\n",
            "\u001b[K     |████████████████████████████████| 112 kB 64.3 MB/s \n",
            "\u001b[?25hRequirement already satisfied: setuptools>=40.1.0 in /usr/local/lib/python3.7/dist-packages (from qiskit-ignis==0.7.1->qiskit) (57.4.0)\n",
            "Collecting retworkx>=0.8.0\n",
            "  Downloading retworkx-0.11.0-cp37-cp37m-manylinux_2_5_x86_64.manylinux1_x86_64.manylinux_2_12_x86_64.manylinux2010_x86_64.whl (1.6 MB)\n",
            "\u001b[K     |████████████████████████████████| 1.6 MB 39.1 MB/s \n",
            "\u001b[?25hRequirement already satisfied: psutil>=5 in /usr/local/lib/python3.7/dist-packages (from qiskit-terra==0.20.2->qiskit) (5.4.8)\n",
            "Requirement already satisfied: dill>=0.3 in /usr/local/lib/python3.7/dist-packages (from qiskit-terra==0.20.2->qiskit) (0.3.5.1)\n",
            "Collecting ply>=3.10\n",
            "  Downloading ply-3.11-py2.py3-none-any.whl (49 kB)\n",
            "\u001b[K     |████████████████████████████████| 49 kB 5.2 MB/s \n",
            "\u001b[?25hCollecting symengine>=0.9\n",
            "  Downloading symengine-0.9.2-cp37-cp37m-manylinux2010_x86_64.whl (37.5 MB)\n",
            "\u001b[K     |████████████████████████████████| 37.5 MB 35.8 MB/s \n",
            "\u001b[?25hRequirement already satisfied: sympy>=1.3 in /usr/local/lib/python3.7/dist-packages (from qiskit-terra==0.20.2->qiskit) (1.7.1)\n",
            "Collecting tweedledum<2.0,>=1.1\n",
            "  Downloading tweedledum-1.1.1-cp37-cp37m-manylinux_2_12_x86_64.manylinux2010_x86_64.whl (943 kB)\n",
            "\u001b[K     |████████████████████████████████| 943 kB 48.5 MB/s \n",
            "\u001b[?25hCollecting scipy>=1.0\n",
            "  Downloading scipy-1.7.3-cp37-cp37m-manylinux_2_12_x86_64.manylinux2010_x86_64.whl (38.1 MB)\n",
            "\u001b[K     |████████████████████████████████| 38.1 MB 1.2 MB/s \n",
            "\u001b[?25hCollecting stevedore>=3.0.0\n",
            "  Downloading stevedore-3.5.0-py3-none-any.whl (49 kB)\n",
            "\u001b[K     |████████████████████████████████| 49 kB 5.7 MB/s \n",
            "\u001b[?25hCollecting python-constraint>=1.4\n",
            "  Downloading python-constraint-1.4.0.tar.bz2 (18 kB)\n",
            "Requirement already satisfied: six>=1.5 in /usr/local/lib/python3.7/dist-packages (from python-dateutil>=2.8.0->qiskit-ibmq-provider==0.19.1->qiskit) (1.15.0)\n",
            "Requirement already satisfied: certifi>=2017.4.17 in /usr/local/lib/python3.7/dist-packages (from requests>=2.19->qiskit-ibmq-provider==0.19.1->qiskit) (2022.5.18.1)\n",
            "Requirement already satisfied: idna<3,>=2.5 in /usr/local/lib/python3.7/dist-packages (from requests>=2.19->qiskit-ibmq-provider==0.19.1->qiskit) (2.10)\n",
            "Requirement already satisfied: chardet<4,>=3.0.2 in /usr/local/lib/python3.7/dist-packages (from requests>=2.19->qiskit-ibmq-provider==0.19.1->qiskit) (3.0.4)\n",
            "Collecting ntlm-auth>=1.0.2\n",
            "  Downloading ntlm_auth-1.5.0-py2.py3-none-any.whl (29 kB)\n",
            "Collecting cryptography>=1.3\n",
            "  Downloading cryptography-37.0.2-cp36-abi3-manylinux_2_24_x86_64.whl (4.0 MB)\n",
            "\u001b[K     |████████████████████████████████| 4.0 MB 41.7 MB/s \n",
            "\u001b[?25hRequirement already satisfied: cffi>=1.12 in /usr/local/lib/python3.7/dist-packages (from cryptography>=1.3->requests-ntlm>=1.1.0->qiskit-ibmq-provider==0.19.1->qiskit) (1.15.0)\n",
            "Requirement already satisfied: pycparser in /usr/local/lib/python3.7/dist-packages (from cffi>=1.12->cryptography>=1.3->requests-ntlm>=1.1.0->qiskit-ibmq-provider==0.19.1->qiskit) (2.21)\n",
            "Collecting pbr!=2.1.0,>=2.0.0\n",
            "  Downloading pbr-5.9.0-py2.py3-none-any.whl (112 kB)\n",
            "\u001b[K     |████████████████████████████████| 112 kB 57.6 MB/s \n",
            "\u001b[?25hRequirement already satisfied: importlib-metadata>=1.7.0 in /usr/local/lib/python3.7/dist-packages (from stevedore>=3.0.0->qiskit-terra==0.20.2->qiskit) (4.11.3)\n",
            "Requirement already satisfied: zipp>=0.5 in /usr/local/lib/python3.7/dist-packages (from importlib-metadata>=1.7.0->stevedore>=3.0.0->qiskit-terra==0.20.2->qiskit) (3.8.0)\n",
            "Requirement already satisfied: typing-extensions>=3.6.4 in /usr/local/lib/python3.7/dist-packages (from importlib-metadata>=1.7.0->stevedore>=3.0.0->qiskit-terra==0.20.2->qiskit) (4.2.0)\n",
            "Requirement already satisfied: mpmath>=0.19 in /usr/local/lib/python3.7/dist-packages (from sympy>=1.3->qiskit-terra==0.20.2->qiskit) (1.2.1)\n",
            "Building wheels for collected packages: qiskit, python-constraint\n",
            "  Building wheel for qiskit (setup.py) ... \u001b[?25l\u001b[?25hdone\n",
            "  Created wheel for qiskit: filename=qiskit-0.36.2-py3-none-any.whl size=11933 sha256=99356c3e24bba23a51eeeb1d288aa3e81f0637a5e4e92e59cd21d7b02e868cf2\n",
            "  Stored in directory: /root/.cache/pip/wheels/36/f7/83/e2755ad17aa35bc145fce34e184aaf394a265a978d95caaabf\n",
            "  Building wheel for python-constraint (setup.py) ... \u001b[?25l\u001b[?25hdone\n",
            "  Created wheel for python-constraint: filename=python_constraint-1.4.0-py2.py3-none-any.whl size=24081 sha256=c9505b11b1c94c92fa466e04e462208692db79e840eb54f142257a7247ce80c9\n",
            "  Stored in directory: /root/.cache/pip/wheels/07/27/db/1222c80eb1e431f3d2199c12569cb1cac60f562a451fe30479\n",
            "Successfully built qiskit python-constraint\n",
            "Installing collected packages: pbr, tweedledum, symengine, stevedore, scipy, retworkx, python-constraint, ply, ntlm-auth, cryptography, websockets, websocket-client, requests-ntlm, qiskit-terra, qiskit-ignis, qiskit-ibmq-provider, qiskit-aer, qiskit\n",
            "  Attempting uninstall: scipy\n",
            "    Found existing installation: scipy 1.4.1\n",
            "    Uninstalling scipy-1.4.1:\n",
            "      Successfully uninstalled scipy-1.4.1\n",
            "\u001b[31mERROR: pip's dependency resolver does not currently take into account all the packages that are installed. This behaviour is the source of the following dependency conflicts.\n",
            "albumentations 0.1.12 requires imgaug<0.2.7,>=0.2.5, but you have imgaug 0.2.9 which is incompatible.\u001b[0m\n",
            "Successfully installed cryptography-37.0.2 ntlm-auth-1.5.0 pbr-5.9.0 ply-3.11 python-constraint-1.4.0 qiskit-0.36.2 qiskit-aer-0.10.4 qiskit-ibmq-provider-0.19.1 qiskit-ignis-0.7.1 qiskit-terra-0.20.2 requests-ntlm-1.1.0 retworkx-0.11.0 scipy-1.7.3 stevedore-3.5.0 symengine-0.9.2 tweedledum-1.1.1 websocket-client-1.3.2 websockets-10.3\n"
          ]
        }
      ],
      "source": [
        "pip install qiskit "
      ]
    },
    {
      "cell_type": "code",
      "source": [
        "from qiskit import IBMQ\n",
        "IBMQ.save_account('133bc4d7beafa49cf1685c0293f39259bd4e97559deb8e5eceff53c4bf9a7c5804095d88dd28eb5e471770b92bdc3fa63934cfe71612f2395960889535c314dd') #put your API token in between the quotations\n",
        "# Importing standard Qiskit libraries\n",
        "from qiskit import QuantumCircuit  #Importing the QuantumCircuit function from Qiskit. We will use this to create our quantum circuits!\n",
        "\n",
        "# We will use these functions to run our circuit and visualize its final state\n",
        "from qiskit import Aer, execute, IBMQ \n",
        "from qiskit.visualization import *\n",
        "\n",
        "\n",
        "import warnings  # We are using this library to suppress some warning messages\n",
        "warnings.filterwarnings(\"ignore\")\n",
        "\n",
        "provider = IBMQ.load_account()\n",
        "print(\"Libraries imported successfully!\")"
      ],
      "metadata": {
        "id": "qlmRGyhFFO-_",
        "colab": {
          "base_uri": "https://localhost:8080/"
        },
        "outputId": "f22103ef-29ab-49f8-9ff5-c4885e0c76a3"
      },
      "execution_count": 2,
      "outputs": [
        {
          "output_type": "stream",
          "name": "stdout",
          "text": [
            "Libraries imported successfully!\n"
          ]
        }
      ]
    },
    {
      "cell_type": "markdown",
      "source": [
        "# Computer Programming and Design Thinking Final exam\n",
        "\n",
        "\n",
        "\n"
      ],
      "metadata": {
        "id": "Pec4dqPWFLYY"
      }
    },
    {
      "cell_type": "markdown",
      "source": [
        "## Coding cheat sheet:\n",
        "\n",
        "# Defining a quantum circuit: \n",
        "\n",
        "`qc = QuantumCircuit(1)` # Define a 1 qubit quantum circuit <br>\n",
        "`qc = QuantumCircuit(1,1)` # Define a 1 qubit quantum circuit with 1 classical bit (Only for QASM simulator or real Quantum Computer) <br>\n",
        "\n",
        "`qc.x(0)` # Add an X gate <br>\n",
        "`qc.h(0)` # Add an H gate <br>\n",
        "`qc.z(0)` # Add a Z gate <br>\n",
        "\n",
        "`qc.measure(0,0)` # Add measurement to circuit (Only for QASM simulator or real Quantum Computer) <br>\n",
        "\n",
        "`qc.draw()` #Draw the circuit <br>\n",
        "\n",
        "\n",
        "Set up and run the statevector simulator:<br>\n",
        "\n",
        "`backend = Aer.get_backend('statevector_simulator')` # Tell it which simulator you want to use <br>\n",
        "`job = execute(qc,backend)` # Put in the name of your quantum circuit where it says qc<br>\n",
        "`result = job.result()` <br>\n",
        "\n",
        "Set up and run the QASM simulator:<br>\n",
        "\n",
        "`backend = Aer.get_backend('qasm_simulator')` # Tell it which simulator you want to use <br>\n",
        "`job = execute(qc,backend, shots = 1024)` # Put in the name of your quantum circuit where it says qc, and the number of shots you want to use<br>\n",
        "`result = job.result()` <br>\n",
        "\n",
        "\n",
        "See the output in vector form (only for Statevector simulator):<br>\n",
        "`state = result.get_statevector()` <br>\n",
        "`array_to_latex(state, pretext=\"\\\\text{Statevector} = \")` <br>\n",
        "\n",
        "See the output in histogram form (for Statevector, QASM, or real quantum computer): <br>\n",
        "`counts = result.get_counts()` <br>\n",
        "`plot_histogram(counts)` <br>\n"
      ],
      "metadata": {
        "id": "4nNNvUSFFaon"
      }
    },
    {
      "cell_type": "markdown",
      "source": [
        "## Visualise a Block sphere that depicts the Η gate on the |0⟩\n",
        "\n",
        "**10 points**"
      ],
      "metadata": {
        "id": "gvrpmqxR8WAC"
      }
    },
    {
      "cell_type": "code",
      "source": [
        "# Add more code blocks if necessary\n",
        "# Type code below"
      ],
      "metadata": {
        "id": "LdTNs5zQFbf3"
      },
      "execution_count": null,
      "outputs": []
    },
    {
      "cell_type": "markdown",
      "source": [
        "### Answer the following questions  **1*6 = 6 points**\n",
        "\n",
        "\n",
        "---\n",
        "\n",
        "\n",
        "The H gate on the |0⟩ results in a (positive) state. **1 point**\n",
        "\n",
        "The H gate on the |1⟩ results in a (negative) state. **1 point**\n",
        "\n",
        "The H gate on the |+⟩ results in a (negative) state. **1 point**\n",
        "\n",
        "The Z gate on the |0⟩ results in a (1) state. **1 point**\n",
        "\n",
        "The Z gate on the |+⟩ results in a (positive) state. **1 point**\n",
        "\n",
        "The Z gate on the |-⟩ results in a (negative) state. **1 point**"
      ],
      "metadata": {
        "id": "XHUMIV1O9Sa4"
      }
    },
    {
      "cell_type": "markdown",
      "source": [
        "### Normalise this state  [ 5  4]. \n",
        "\n",
        "**2 points**\n",
        "\n",
        "Answer here"
      ],
      "metadata": {
        "id": "KpEuqbRlKr0T"
      }
    },
    {
      "cell_type": "markdown",
      "source": [
        "## Caeser Shift  \n",
        "**10 points**\n",
        "\n",
        "---\n",
        "\n",
        "\n",
        "\n",
        "Write a caeser shift to encrypt the following message. \n",
        "\n",
        "Message - \"THEBEARWENTOVERTHEMOUNTAINTOSEEWHATHECOULDSEE\"\n",
        "\n",
        "\n",
        "\n",
        "*   alpha = \"ABCDEFGHIJKLMNOPQRSTUVWXYZ\"\n",
        "*   Your code should have a variable 'sh' that will be the key to shifting the text. The 'sh' should be set to 6\n",
        "*   Make a function to encrypt the message. The function should be called enc_caeser"
      ],
      "metadata": {
        "id": "ZiRf7U2q-olq"
      }
    },
    {
      "cell_type": "code",
      "source": [
        "sh = 6\n",
        "alpha = \"ABCDEFGHIJKLMNOPQRSTUVWXYZ\"\n",
        "message = \"THEBEARWENTOVERTHEMOUNTAINTOSEEWHATHECOULDSEE\"\n",
        "\n",
        "def enc_caeser (message, sh):\n",
        "  answer_list = []\n",
        "  for letter in message:         \n",
        "    ind = alpha.index(letter) \n",
        "    ind = ind + sh           \n",
        "    ind %= 26                 \n",
        "    answer_list.append(alpha[ind])\n",
        "  \n",
        "  return \"\".join(answer_list)\n",
        "\n",
        "enc = enc_caeser (message, sh)\n",
        "print(enc)\n"
      ],
      "metadata": {
        "id": "R9sqUH2TAqf9",
        "colab": {
          "base_uri": "https://localhost:8080/"
        },
        "outputId": "9a3469a1-df06-4d36-ceb3-4c6aaafad565"
      },
      "execution_count": 3,
      "outputs": [
        {
          "output_type": "stream",
          "name": "stdout",
          "text": [
            "ZNKHKGXCKTZUBKXZNKSUATZGOTZUYKKCNGZNKIUARJYKK\n"
          ]
        }
      ]
    },
    {
      "cell_type": "markdown",
      "source": [
        "## Vigenere Cipher\n",
        "\n",
        "\n",
        "---\n",
        "\n"
      ],
      "metadata": {
        "id": "o2u8M2yIAvXx"
      }
    },
    {
      "cell_type": "code",
      "source": [
        "alpha = \"ABCDEFGHIJKLMNOPQRSTUVWXYZ\"\n",
        "\n",
        "def GenKey(string, key):                  \n",
        "    key = list(key)                         #1. What does this line do?\n",
        "    if len(string) == len(key):                 \n",
        "        return(key)\n",
        "    else:\n",
        "        for i in range(len(string) -\n",
        "                       len(key)):\n",
        "            key.append(key[i % len(key)])   #2. What does this line do?  \n",
        "    return(\"\" . join(key))\n"
      ],
      "metadata": {
        "id": "jn_dmlZ5Bo0c"
      },
      "execution_count": 12,
      "outputs": []
    },
    {
      "cell_type": "markdown",
      "source": [
        "**5 points**\n",
        "Type your answers here  \n",
        "1. Makes a list for the key \n",
        "2. This line uses the last letter of the variable i and mod to the length of key "
      ],
      "metadata": {
        "id": "2LsPI0L3CBqO"
      }
    },
    {
      "cell_type": "markdown",
      "source": [
        "### Decode using Vigenere Cipher\n",
        "**15 points**\n",
        "\n",
        "* Write a decode function to decode this message.\n",
        "** MPQLXIHIGAPIVTMVXBTIZTAVRWRKHLFLXAWMXABVHKXEBUFLXEAVDWRLBATEGLE\n",
        "* The key used to encrypt this code was TIME"
      ],
      "metadata": {
        "id": "BwlGAux5CPUV"
      }
    },
    {
      "cell_type": "code",
      "source": [
        ""
      ],
      "metadata": {
        "id": "c_2hgWp8EGGH"
      },
      "execution_count": null,
      "outputs": []
    },
    {
      "cell_type": "markdown",
      "source": [
        "# RSA Encryption \n",
        "\n",
        "\n",
        "---\n",
        "\n",
        "Below you have been given the functions for the Mod Inverse.\n"
      ],
      "metadata": {
        "id": "7ZxsLC8IEIzG"
      }
    },
    {
      "cell_type": "code",
      "source": [
        "def mod_inverse_helper(a, b):\n",
        "    q, r = a//b, a%b\n",
        "    if r == 1:\n",
        "        return (1, -1 * q)\n",
        "    u, v = mod_inverse_helper(b, r)\n",
        "    return (v, -1 * q * v + u)\n",
        "\n",
        "def mod_inverse(a, m):\n",
        "    assert math.gcd(a, m) == 1, \"You're trying to invert \" + str(a) + \" in mod \" + str(m) + \" and that doesn't work!\"\n",
        "    return mod_inverse_helper(m, a)[1] % m"
      ],
      "metadata": {
        "id": "Mbdafn9ZE706"
      },
      "execution_count": 13,
      "outputs": []
    },
    {
      "cell_type": "markdown",
      "source": [
        "### Function to convert a text to number \n",
        "\n",
        "**10 points**\n",
        "\n",
        "2 points per question"
      ],
      "metadata": {
        "id": "dIEMv6ByE9-M"
      }
    },
    {
      "cell_type": "code",
      "source": [
        "def convert_to_num(word):          #1.\n",
        "  f_num = 0                     \n",
        "  for i in range(len(word)):       \n",
        "    k = alpha.index(word[i])      #2.\n",
        "    exp = 26**i                   #3.\n",
        "    f_num += k*exp                #4. \n",
        "  return f_num"
      ],
      "metadata": {
        "id": "O_G7o7DxFRq3"
      },
      "execution_count": 14,
      "outputs": []
    },
    {
      "cell_type": "markdown",
      "source": [
        "Explain the role/function of each of the commented lines\n",
        "\n",
        "1. (Defines a function with the constraint of word)\n",
        "2. (k equals the index of variable i in word)\n",
        "3. (26 to the power of i)\n",
        "4. (fnum plus k times exp)\n",
        "5. How many arguments does this function take? - one"
      ],
      "metadata": {
        "id": "Q6RkWh8AFm7r"
      }
    },
    {
      "cell_type": "markdown",
      "source": [
        "Write a function to convert number to text then back to text \n",
        "\n",
        "**8 points**"
      ],
      "metadata": {
        "id": "yx_BbwTtGCEJ"
      }
    },
    {
      "cell_type": "code",
      "source": [
        "def convert_to_text(num, n):      #n here is the length of the message\n",
        "  text_list = []\n",
        "  for i in range(n):\n",
        "    f_let = num%26\n",
        "    num = (num//26)\n",
        "    text_list.append(alpha[f_let])\n",
        "  return\"\".join(text_list)    "
      ],
      "metadata": {
        "id": "ZdQHyYP-GIaN"
      },
      "execution_count": 15,
      "outputs": []
    },
    {
      "cell_type": "code",
      "source": [
        "test_message = \"THEWORLDISFILLEDWITHBOTHBROKENESSANDBEAUTY\"\n",
        "\n",
        "#convert this message to a number. HINT: you've already been given the function\n",
        "def convert_to_num(test):         \n",
        "  f_num = 0                     \n",
        "  for i in range(len(test)):       \n",
        "    k = alpha.index(test[i])     \n",
        "    exp = 26**i                  \n",
        "    f_num += k*exp                \n",
        "  return f_num\n",
        "\n",
        "\n",
        "#convert the number above  back to text \n",
        "def convert_to_text(num, n):\n",
        "  text_list = []\n",
        "  for i in range(n):\n",
        "    f_let = num%26\n",
        "    num = (num//26)\n",
        "    text_list.append(alpha[f_let])\n",
        "  return\"\".join(text_list)\n",
        "\n",
        "\n",
        "number = convert_to_num(test_message)\n",
        "text = convert_to_text\n",
        "print(number)\n",
        "print(text)"
      ],
      "metadata": {
        "id": "zjcUPIjTHJ0n",
        "colab": {
          "base_uri": "https://localhost:8080/"
        },
        "outputId": "90011917-da7e-40a1-aab0-c084b88bdedf"
      },
      "execution_count": 18,
      "outputs": [
        {
          "output_type": "stream",
          "name": "stdout",
          "text": [
            "255660885966601970259408317998811554544848293543587099806345\n",
            "<function convert_to_text at 0x7ff501945b90>\n"
          ]
        }
      ]
    },
    {
      "cell_type": "markdown",
      "source": [
        "### Decode the message using RSA\n",
        "**20 points**\n",
        "\n",
        "* p = \n",
        "* q = \n",
        "* m = p*q\n",
        "* e = 65537\n",
        "* Decode this-\n",
        "405922227935104329395292654437046944779590978125509606972663606667346765773305\n",
        "* Write a function to decode. The decode function takes 4 arguments. \n",
        "* Find out what the text is. "
      ],
      "metadata": {
        "id": "Ogw3YL4KH6MV"
      }
    },
    {
      "cell_type": "code",
      "source": [
        "# complete the function for d\n",
        "\n",
        "def get_d(p, q, e):\n",
        "  t = (p-1) * (q-1)\n",
        "  inverse = mod_inverse(e,t)\n",
        "\n",
        "  return inverse\n",
        "\n",
        "p = 1147485892617544620237479972506460195527\n",
        "q = 793900544614740897270870631322868727093\n",
        "e = 65537\n",
        "m = p*q\n"
      ],
      "metadata": {
        "id": "ATai3B5ZJg-v"
      },
      "execution_count": 21,
      "outputs": []
    },
    {
      "cell_type": "code",
      "source": [
        ""
      ],
      "metadata": {
        "id": "U1XuqSghJ05m"
      },
      "execution_count": null,
      "outputs": []
    },
    {
      "cell_type": "markdown",
      "source": [
        "## Reflection Questions \n",
        "\n",
        "**10 points**\n",
        "\n",
        "Type answers belwo the questions\n",
        "\n",
        "1. What was your favourite memory from this year and why? \n",
        "- My favorite memory is \n",
        "\n",
        "\n",
        "2. What was your funniest memory from this year?\n",
        "- When we were doing accents \n",
        "\n",
        "\n",
        "3. What is one piece of advice you would have given to yourself at the beginning of senior year?\n",
        "- instead of waiting for an answer try to find it yourself cause you'll remember way better that way\n",
        "\n",
        "\n",
        "4. What is one regret you have from this year?\n",
        "- I didn't make a cheat sheet for the final \n",
        "\n",
        "\n",
        "5. What would have liked done differently in this class? Maybe you wanted us to cover a differet topic or maybe you wanted us not to do a topic. What feedback do you wnat to give?\n",
        "- I actually don't know cause I don't have a clue other than what we learn and what we learned was fun so "
      ],
      "metadata": {
        "id": "Khyj0DJSeNVe"
      }
    },
    {
      "cell_type": "code",
      "source": [
        ""
      ],
      "metadata": {
        "id": "Q7vXRVB5fVA8"
      },
      "execution_count": null,
      "outputs": []
    }
  ]
}