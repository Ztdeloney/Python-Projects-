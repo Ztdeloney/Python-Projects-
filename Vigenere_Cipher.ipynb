{
  "nbformat": 4,
  "nbformat_minor": 0,
  "metadata": {
    "colab": {
      "name": "Vigenere Cipher ",
      "provenance": []
    },
    "kernelspec": {
      "name": "python3",
      "display_name": "Python 3"
    },
    "language_info": {
      "name": "python"
    }
  },
  "cells": [
    {
      "cell_type": "markdown",
      "source": [
        "**Vigenere Cipher**"
      ],
      "metadata": {
        "id": "IkiqW0FwfGhz"
      }
    },
    {
      "cell_type": "code",
      "source": [
        "alpha = \"ABCDEFGHIJKLMNOPQRSTUVWXYZ\""
      ],
      "metadata": {
        "id": "Zg2z_yFMgGUu"
      },
      "execution_count": null,
      "outputs": []
    },
    {
      "cell_type": "markdown",
      "source": [
        "alpha = \"ABCDEFGHIJKLMNOPQRSTUVWXYZ\" - sets list for the alphabet "
      ],
      "metadata": {
        "id": "AJlOsbrHgIWe"
      }
    },
    {
      "cell_type": "code",
      "source": [
        "def cipherText(string, key):       \n",
        "  cipher_text = []\n",
        "  for i in range(len(string)):\n",
        "    m_num = alpha.index(string[i])\n",
        "    k_num = alpha.index(key[i])                       \n",
        "    e_num = (m_num + k_num) % 26 \n",
        "    cipher_text.append(alpha[e_num])\n",
        "  return(\"\" . join(cipher_text))"
      ],
      "metadata": {
        "id": "WktYEIDvgNu2"
      },
      "execution_count": null,
      "outputs": []
    },
    {
      "cell_type": "markdown",
      "source": [
        "1. def cipherText(string, key): - makes a function using string and key\n",
        "2. cipher_text = [] - creates a empty list \n",
        "3. for i in range(len(string)): - for the index in the range of length of the string\n",
        "4. m_num = alpha.index(string[i]) - turns alpha into a list 0-25 and in that list it finds the index of that letter \n",
        "5. k_num = alpha.index(key[i]) - finds the index of the key \n",
        "6. e_num = (m_num + k_num) % 26  - adds the index of k_num and m_num then divides that by 26 and gets the remainder "
      ],
      "metadata": {
        "id": "_mVxeTCZgYk9"
      }
    },
    {
      "cell_type": "code",
      "source": [
        "def generateKey(string, key): \n",
        "   key = list(key)\n",
        "   if len(string) == len(key):\n",
        "       return(key) \n",
        "   else:\n",
        "       for i in range(len(string) - \n",
        "                      len(key)): \n",
        "           key.append(key[i % len(key)]) \n",
        "   return(\"\" . join(key)) "
      ],
      "metadata": {
        "id": "qXD_AeBSklGu"
      },
      "execution_count": null,
      "outputs": []
    },
    {
      "cell_type": "markdown",
      "source": [
        "1. def generateKey(string, key): - this line defines a function and the constraints are string and variable key\n",
        "2. key = list(key) - creates a list for the key \n",
        "3. if len(string) == len(key): - using an if statement to make string = to key\n",
        "4. return(key) - it will return key\n",
        "5. for i in range(len(string) - - for the variable i \n",
        "6. len(key)): - the length of the key \n",
        "7. key.append(key[i % len(key)]) - the last letter of the variable i \n",
        "8. return(\"\" . join(key)) - join key, basically all of the alpha when it starts to repear"
      ],
      "metadata": {
        "id": "gEfE9SPsk4pQ"
      }
    },
    {
      "cell_type": "code",
      "source": [
        "def decipherText(string, key):\n",
        "  decipher_text = []\n",
        "  for i in range(len(string)):\n",
        "     m_num = alpha.index(string[i])\n",
        "     k_num = alpha.index(key[i])                  \n",
        "     e_num = (m_num - k_num) % 26 \n",
        "     decipher_text.append(alpha[e_num])\n",
        "  return(\"\" . join(decipher_text))"
      ],
      "metadata": {
        "id": "edNSEbmqj6gd"
      },
      "execution_count": null,
      "outputs": []
    },
    {
      "cell_type": "markdown",
      "source": [
        "1. def decipherText(string, key): - makes a function using string and key \n",
        "2. decipher_text = [] - makes empty list \n",
        "3.  for i in range(len(string)): - for the index in the range of length of the string\n",
        "4. m_num = alpha.index(string[i]) - turns alpha into a list 0-25 and in that list it finds the index of that letter\n",
        "5. k_num = alpha.index(key[i]) - finds the index of the key\n",
        "6. e_num = (m_num - k_num) % 26 - this time since we are decoding it we are going to minus instead of add them together \n"
      ],
      "metadata": {
        "id": "7lqFPUHej_lu"
      }
    },
    {
      "cell_type": "code",
      "source": [
        "def originalText(cipher_text, key):\n",
        "   orig_text = []\n",
        "   for i in range(len(cipher_text)):\n",
        "       x = (ord(cipher_text[i]) -\n",
        "            ord(key[i]) + 26) % 26\n",
        "       x += ord('A')\n",
        "       orig_text.append(chr(x))\n",
        "   return(\"\" . join(orig_text))"
      ],
      "metadata": {
        "id": "CpvowWYOlGR5"
      },
      "execution_count": null,
      "outputs": []
    },
    {
      "cell_type": "markdown",
      "source": [
        "This part is when it actually turns the scrambled text into the original text. Which is THEQUICKBROWNFOXJUMPEDOVERTHELAZYDOG. "
      ],
      "metadata": {
        "id": "KNzCi9N7lMOa"
      }
    },
    {
      "cell_type": "code",
      "source": [
        "key = input(\"Input a unigue key in all caps \")\n",
        "\n",
        "test = \"THEQUICKBROWNFOXJUMPEDOVERTHELAZYDOG\"\n",
        "vig_key = generateKey(test, key)\n",
        "vig_key = vig_key.upper()\n",
        "\n",
        "enc = cipherText(test, vig_key)\n",
        "dec = decipherText(enc, vig_key)\n",
        "print(enc)\n",
        "print(dec)"
      ],
      "metadata": {
        "id": "g4EbkczPl-sH"
      },
      "execution_count": null,
      "outputs": []
    },
    {
      "cell_type": "markdown",
      "source": [
        "1. key = input(\"Input a unigue key in all caps \") - asks the user to enter the key to be used\n",
        "2. test = \"THEQUICKBROWNFOXJUMPEDOVERTHELAZYDOG\" - this is the text that is encoded and decoded\n",
        "3. vig_key = vig_key.upper() - turns the vig_key to all uppercase \n",
        "4. enc = cipherText(test, vig_key) - sets the cipherText to an easier variable  \n",
        "5. dec = decipherText(enc, vig_key) - sets the decipherText to an easier variable  \n",
        "6. print(enc) - prints enc\n",
        "7. print(dec) - prints dec"
      ],
      "metadata": {
        "id": "ynlK0gR-l_uS"
      }
    }
  ]
}