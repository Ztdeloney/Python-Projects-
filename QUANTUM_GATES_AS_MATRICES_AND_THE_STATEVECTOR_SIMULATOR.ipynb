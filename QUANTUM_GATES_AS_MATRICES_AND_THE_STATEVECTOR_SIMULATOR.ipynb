{
  "nbformat": 4,
  "nbformat_minor": 0,
  "metadata": {
    "colab": {
      "name": "QUANTUM GATES AS MATRICES AND THE STATEVECTOR SIMULATOR",
      "provenance": []
    },
    "kernelspec": {
      "name": "python3",
      "display_name": "Python 3"
    },
    "language_info": {
      "name": "python"
    }
  },
  "cells": [
    {
      "cell_type": "markdown",
      "source": [
        "**QUANTUM GATES AS MATRICES AND THE STATEVECTOR SIMULATOR**"
      ],
      "metadata": {
        "id": "iJyD61PM7a_i"
      }
    },
    {
      "cell_type": "code",
      "source": [
        "# Importing standard Qiskit libraries\n",
        "from qiskit import QuantumCircuit  #Importing the QuantumCircuit function from Qiskit. We will use this to create our quantum circuits!\n",
        "\n",
        "# We will use these functions to run our circuit and visualize its final state\n",
        "from qiskit import Aer, execute, IBMQ \n",
        "from qiskit.visualization import *\n",
        "from qiskit.visualization import array_to_latex\n",
        "\n",
        "\n",
        "import warnings  # We are using this library to suppress some warning messages\n",
        "warnings.filterwarnings(\"ignore\")\n",
        "\n",
        "provider = IBMQ.load_account()\n",
        "print(\"Libraries imported successfully!\")"
      ],
      "metadata": {
        "id": "MXgdtXBB7fPH"
      },
      "execution_count": null,
      "outputs": []
    },
    {
      "cell_type": "markdown",
      "source": [
        "We need this for the code to run "
      ],
      "metadata": {
        "id": "CB_Lbk9a7n7y"
      }
    },
    {
      "cell_type": "code",
      "source": [
        "qc = QuantumCircuit(1,1)\n",
        "qc.draw()"
      ],
      "metadata": {
        "id": "FeWLkTVW749w"
      },
      "execution_count": null,
      "outputs": []
    },
    {
      "cell_type": "markdown",
      "source": [
        "Creates a quantum circuit with 1 qubit and then draws it. "
      ],
      "metadata": {
        "id": "GWawrMoa79cE"
      }
    },
    {
      "cell_type": "code",
      "source": [
        "qc.h(0)\n",
        "qc.x(0)\n",
        "qc.draw()"
      ],
      "metadata": {
        "id": "tYzIDPVj8Lam"
      },
      "execution_count": null,
      "outputs": []
    },
    {
      "cell_type": "markdown",
      "source": [
        "Adds a h gate and a x gate to the circut then draws it. "
      ],
      "metadata": {
        "id": "Sc1KTZye8MDx"
      }
    },
    {
      "cell_type": "code",
      "source": [
        "qc.h(0)\n",
        "qc.x(0)\n",
        "qc.measure(0,0)\n",
        "qc.draw()"
      ],
      "metadata": {
        "id": "W5FtfqnT8TA4"
      },
      "execution_count": null,
      "outputs": []
    },
    {
      "cell_type": "markdown",
      "source": [
        "Adds another h and x gate then gets measured. Draws it also. "
      ],
      "metadata": {
        "id": "PmYeaGDu8ejy"
      }
    },
    {
      "cell_type": "code",
      "source": [
        "backend = Aer.get_backend('statevector_simulator') \n",
        "job = execute(qc, backend) \n",
        "result = job.result() "
      ],
      "metadata": {
        "id": "Xm1SfzkW8xwH"
      },
      "execution_count": null,
      "outputs": []
    },
    {
      "cell_type": "markdown",
      "source": [
        "With this we are setting up and running the Statevector simulator.\n",
        "1. backend = Aer.get_backend('statevector_simulator') - Choosing the simulator we want to use\n",
        "2. job = execute(qc, backend) - Running the simulator - specifying the circuit we want to simulate\n",
        "3. result = job.result() - Getting the result from the simulator"
      ],
      "metadata": {
        "id": "EXtCipYZ81Bz"
      }
    },
    {
      "cell_type": "code",
      "source": [
        "final_state = result.get_statevector()\n",
        "array_to_latex(final_state, prefix=\"\\\\text{Statevector} = \")"
      ],
      "metadata": {
        "id": "S3d2hhMk9OW0"
      },
      "execution_count": null,
      "outputs": []
    },
    {
      "cell_type": "markdown",
      "source": [
        "Visualizes the results of the Statevector simulator as a vector.\n"
      ],
      "metadata": {
        "id": "SA47cCm8-COz"
      }
    },
    {
      "cell_type": "code",
      "source": [
        "counts = result.get_counts() \n",
        "plot_histogram(counts) "
      ],
      "metadata": {
        "id": "HbOytugQ-JCw"
      },
      "execution_count": null,
      "outputs": []
    },
    {
      "cell_type": "markdown",
      "source": [
        "Visualizes the results of the Statevector simulator as a graph. \n",
        "1. counts = result.get_counts() - Getting the counts of 0 and 1 from the result\n",
        "2. plot_histogram(counts) - Plotting the counts of 0 and 1"
      ],
      "metadata": {
        "id": "R-pkm8L_-Mto"
      }
    },
    {
      "cell_type": "code",
      "source": [
        "qc2=QuantumCircuit(1)\n",
        "qc2.h(0)\n",
        "qc2.z(0)\n",
        "qc2.draw()"
      ],
      "metadata": {
        "id": "uHYfGfm0BBxo"
      },
      "execution_count": null,
      "outputs": []
    },
    {
      "cell_type": "markdown",
      "source": [
        "Creates another quantum circuit with 1 qubit with one h gate and one z gate. Then gets drawn. "
      ],
      "metadata": {
        "id": "YAy_tWjZBFs7"
      }
    },
    {
      "cell_type": "code",
      "source": [
        "backend = Aer.get_backend('statevector_simulator') \n",
        "job = execute(qc2, backend) \n",
        "result = job.result() "
      ],
      "metadata": {
        "id": "2tjPvZYIBTd0"
      },
      "execution_count": null,
      "outputs": []
    },
    {
      "cell_type": "markdown",
      "source": [
        "With this we are setting up and running the Statevector simulator.(Same thing as earlier)\n",
        "1. backend = Aer.get_backend('statevector_simulator') - Choosing the simulator we want to use\n",
        "2. job = execute(qc, backend) - Running the simulator - specifying the circuit we want to simulate\n",
        "3. result = job.result() - Getting the result from the simulator"
      ],
      "metadata": {
        "id": "5luKkQSdBmAW"
      }
    },
    {
      "cell_type": "code",
      "source": [
        "final_state = result.get_statevector()\n",
        "array_to_latex(final_state, prefix=\"\\\\text{Statevector} = \")"
      ],
      "metadata": {
        "id": "ndIBvtCyBxfE"
      },
      "execution_count": null,
      "outputs": []
    },
    {
      "cell_type": "markdown",
      "source": [
        "Visualizes the results of the Statevector simulator as a vector. (Same thing as earlier)"
      ],
      "metadata": {
        "id": "cqyQ-0gJB5Nm"
      }
    }
  ]
}