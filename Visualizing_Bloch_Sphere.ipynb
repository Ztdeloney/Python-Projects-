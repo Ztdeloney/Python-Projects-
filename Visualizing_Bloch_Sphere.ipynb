{
  "nbformat": 4,
  "nbformat_minor": 0,
  "metadata": {
    "colab": {
      "name": "Visualizing Bloch Sphere",
      "provenance": []
    },
    "kernelspec": {
      "name": "python3",
      "display_name": "Python 3"
    },
    "language_info": {
      "name": "python"
    }
  },
  "cells": [
    {
      "cell_type": "markdown",
      "source": [
        "**Visualizing Bloch Sphere**"
      ],
      "metadata": {
        "id": "xC-AuFgTVkNk"
      }
    },
    {
      "cell_type": "code",
      "source": [
        "from qiskit import QuantumCircuit  #Importing the QuantumCircuit function from Qiskit. We will use this to create our quantum circuits!\n",
        "\n",
        "from qiskit.visualization import visualize_transition # We will use this function to run our circuit and visualize its final state\n",
        "\n",
        "import warnings  # We are using this library to suppress some warning messages\n",
        "warnings.filterwarnings(\"ignore\")\n",
        "\n",
        "print(\"Libraries imported successfully!\")"
      ],
      "metadata": {
        "id": "WgsbII_YjDMH"
      },
      "execution_count": null,
      "outputs": []
    },
    {
      "cell_type": "markdown",
      "source": [
        "This is needed to run the code."
      ],
      "metadata": {
        "id": "rMm2zoWdjHf8"
      }
    },
    {
      "cell_type": "markdown",
      "source": [
        "qc = QuantumCircuit(1)"
      ],
      "metadata": {
        "id": "iF-q9HFejMH1"
      }
    },
    {
      "cell_type": "markdown",
      "source": [
        "Creates a quantum circuit"
      ],
      "metadata": {
        "id": "2FCfccGZjWde"
      }
    },
    {
      "cell_type": "code",
      "source": [
        "qc.x(0)\n",
        "qc.draw()"
      ],
      "metadata": {
        "id": "JsD_bbKrjkuc"
      },
      "execution_count": null,
      "outputs": []
    },
    {
      "cell_type": "markdown",
      "source": [
        "Adds a x gate and draws it "
      ],
      "metadata": {
        "id": "-IqsTwb0jlrr"
      }
    },
    {
      "cell_type": "code",
      "source": [
        "visualize_transition(qc,trace=True)"
      ],
      "metadata": {
        "id": "jXs4EAR2jpBB"
      },
      "execution_count": null,
      "outputs": []
    },
    {
      "cell_type": "markdown",
      "source": [
        "This makes the bloch sphere so we can see is it is a 0 or 1 "
      ],
      "metadata": {
        "id": "9oiX7tonjsLi"
      }
    },
    {
      "cell_type": "code",
      "source": [
        "cq=QuantumCircuit(1)\n",
        "cq.h(0)\n",
        "cq.draw()"
      ],
      "metadata": {
        "id": "0c_qm_1OkYdT"
      },
      "execution_count": null,
      "outputs": []
    },
    {
      "cell_type": "markdown",
      "source": [
        "We make another quantum circuit with a h gate, then draws it. "
      ],
      "metadata": {
        "id": "NfD5nfAEkrRB"
      }
    },
    {
      "cell_type": "code",
      "source": [
        "visualize_transition(cq,trace=True)"
      ],
      "metadata": {
        "id": "ygKkxpJklExr"
      },
      "execution_count": null,
      "outputs": []
    },
    {
      "cell_type": "markdown",
      "source": [
        "Creates another bloch sphere this time for cq to see if it is 0 or 1. "
      ],
      "metadata": {
        "id": "4CqL28F6lHYm"
      }
    }
  ]
}