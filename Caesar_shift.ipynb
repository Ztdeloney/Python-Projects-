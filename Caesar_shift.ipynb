{
  "nbformat": 4,
  "nbformat_minor": 0,
  "metadata": {
    "colab": {
      "name": "Caesar shift ",
      "provenance": []
    },
    "kernelspec": {
      "name": "python3",
      "display_name": "Python 3"
    },
    "language_info": {
      "name": "python"
    }
  },
  "cells": [
    {
      "cell_type": "markdown",
      "source": [
        "**Project Caesar Shift** "
      ],
      "metadata": {
        "id": "jmLWTCXtaRQ5"
      }
    },
    {
      "cell_type": "code",
      "source": [
        "alpha = \"ABCDEFGHIJKLMNOPQRSTUVWXYZ\""
      ],
      "metadata": {
        "id": "dFll4VQIahWF"
      },
      "execution_count": null,
      "outputs": []
    },
    {
      "cell_type": "markdown",
      "source": [
        "This sets a list for the alphabet "
      ],
      "metadata": {
        "id": "aUOkbu6mawB9"
      }
    },
    {
      "cell_type": "code",
      "source": [
        "def caesar_encode(text, n):\n",
        "  answer_list = []\n",
        "  for letter in text:         # letter in counting in text Ex. what is 0ind is t in \"text\"\n",
        "    ind = alpha.index(letter) # What is that index of the letter in alpha \n",
        "    ind = ind + n             # Adding the shift to the index \n",
        "    ind %= 26                 # Ind = ind%26 \n",
        "    answer_list.append(alpha[ind])\n",
        "  \n",
        "  return \"\".join(answer_list)"
      ],
      "metadata": {
        "id": "TSf67uxCa0Y9"
      },
      "execution_count": null,
      "outputs": []
    },
    {
      "cell_type": "markdown",
      "source": [
        "This part is encoding the caeser shift.\n",
        "\n",
        "1.    ind = alpha.index(letter) - what is the index of the letter in list alpha\n",
        "2.    ind = ind + n - adds the shift to the index \n",
        "\n"
      ],
      "metadata": {
        "id": "4xhQRACEa3Hk"
      }
    },
    {
      "cell_type": "code",
      "source": [
        "def caesar_decode(text, n):\n",
        "  decode_list = []\n",
        "  for letter in text:\n",
        "    ind = alpha.index(letter)\n",
        "    ind = ind - n   \n",
        "    ind %= 26 \n",
        "    decode_list.append(alpha[ind])\n",
        "    \n",
        "\n",
        "  return \"\".join(decode_list)"
      ],
      "metadata": {
        "id": "UI8BSnk4cb2_"
      },
      "execution_count": null,
      "outputs": []
    },
    {
      "cell_type": "markdown",
      "source": [
        "This part decodes the caesar shift. \n",
        "\n",
        "1.  ind = alpha.index(letter) - what is the index of the letter in list alpha\n",
        "2.  ind = ind - n - gets rid of the shift, getting the letter back to it's oridinal  "
      ],
      "metadata": {
        "id": "UOxnGLYtchtg"
      }
    },
    {
      "cell_type": "code",
      "source": [
        "userinput = input(\"Enter text: \")\n",
        "userinput = userinput.upper()"
      ],
      "metadata": {
        "id": "3aExU-T2dXlC"
      },
      "execution_count": null,
      "outputs": []
    },
    {
      "cell_type": "markdown",
      "source": [
        "1. userinput = input(\"Enter text: \") - asks user for text to shift \n",
        "2. userinput = userinput.upper() - turns their text into all uppercase "
      ],
      "metadata": {
        "id": "d2CjWF8qdbSh"
      }
    },
    {
      "cell_type": "code",
      "source": [
        "test = \"HELLOWORLD\"\n",
        "shift = 1\n",
        "enc = caesar_encode(userinput, shift)\n",
        "dec = caesar_decode(enc, shift)\n",
        "print(enc)\n",
        "print(dec)"
      ],
      "metadata": {
        "id": "VNshCceHdql2"
      },
      "execution_count": null,
      "outputs": []
    },
    {
      "cell_type": "markdown",
      "source": [
        "1. shift = 1 - sets shift to 1, changing the number changes the amount of index to shift over \n",
        "2. enc = caesar_encode(userinput, shift) - sets caeser_encode to variable \n",
        "3. dec = caesar_decode(enc, shift) - sets caeser_decode to variable \n",
        "4. print(enc) - prints encode \n",
        "5. print(dec) - prints decode "
      ],
      "metadata": {
        "id": "hKBPfkEpdtSU"
      }
    }
  ]
}