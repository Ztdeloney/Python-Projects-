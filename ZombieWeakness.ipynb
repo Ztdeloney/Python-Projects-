{
  "nbformat": 4,
  "nbformat_minor": 0,
  "metadata": {
    "colab": {
      "name": "ZombieWeakness",
      "provenance": []
    },
    "kernelspec": {
      "name": "python3",
      "display_name": "Python 3"
    },
    "language_info": {
      "name": "python"
    }
  },
  "cells": [
    {
      "cell_type": "code",
      "execution_count": null,
      "metadata": {
        "id": "kT52XLf8lmEL"
      },
      "outputs": [],
      "source": [
        ""
      ]
    },
    {
      "cell_type": "markdown",
      "source": [
        "# **Zombie Weakness **\n",
        "\n",
        "This python program uses different skills like lists, if-else, loops, user input functions, etc. "
      ],
      "metadata": {
        "id": "LZrhTlCYl_aS"
      }
    },
    {
      "cell_type": "code",
      "source": [
        "zombieWeakness = \"0\"\n",
        "weapons = [\"Holy Water\", \"Chainsaw\", \"Shotgun\", \"Beer Bottle\", \"Knife\", \"Fists\"]\n",
        "print(\"You are in a zombie apocalypse and need weapons for protection\")\n",
        "print(\"We have an armory with weapons already, do you want to use one of these or pick your own?\")\n",
        "print(weapons)\n",
        "choice = (int(input(\"Type 1 for one of our weapons or 2 for your own: \")))\n",
        "\n",
        "\n",
        "if choice == 1:\n",
        "  choice2 = (int(input(\"Which one do you want to use?(Enter a number for the item, 0-5) \")))\n",
        "  if choice2 == int(zombieWeakness):\n",
        "    print('You Did It!! You Beat The Zombies!!')\n",
        "  else:\n",
        "    print(\"The Zombies Got you!! The Weakness Was Holy Water!!\")\n",
        "  \n",
        "elif choice == 2:\n",
        "  choice3 = input(\"Enter a weapon you want to use: \")\n",
        "  weapons.append(choice3)\n",
        "  print(\"This is your new weapon list\")\n",
        "  print(weapons)\n",
        "  choice2 = (int(input(\"Which one do you want to use?(Enter a number for the item, 0-6) \")))\n",
        "  if choice2 == int(zombieWeakness):\n",
        "    print('You Did It!! You Beat The Zombies!!')\n",
        "  else:\n",
        "    print(\"The Zombies Got you!! The Weakness Was Holy Water!!\")"
      ],
      "metadata": {
        "colab": {
          "base_uri": "https://localhost:8080/"
        },
        "id": "HkDXIGyGmfjD",
        "outputId": "21a065b1-d93a-4c5c-f251-dc0bb220826c"
      },
      "execution_count": 1,
      "outputs": [
        {
          "output_type": "stream",
          "name": "stdout",
          "text": [
            "You are in a zombie apocalypse and need weapons for protection\n",
            "We have an armory with weapons already, do you want to use one of these or pick your own?\n",
            "['Holy Water', 'Chainsaw', 'Shotgun', 'Beer Bottle', 'Knife', 'Fists']\n",
            "Type 1 for one of our weapons or 2 for your own: 1\n",
            "Which one do you want to use?(Enter a number for the item, 0-5) 3\n",
            "The Zombies Got you!! The Weakness Was Holy Water!!\n"
          ]
        }
      ]
    },
    {
      "cell_type": "markdown",
      "source": [
        "Here we make a function to incode the letters into numbers "
      ],
      "metadata": {
        "id": "NC3XOhGin6eE"
      }
    }
  ]
}