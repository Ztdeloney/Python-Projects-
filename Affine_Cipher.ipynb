{
  "nbformat": 4,
  "nbformat_minor": 0,
  "metadata": {
    "colab": {
      "name": "Affine Cipher ",
      "provenance": []
    },
    "kernelspec": {
      "name": "python3",
      "display_name": "Python 3"
    },
    "language_info": {
      "name": "python"
    }
  },
  "cells": [
    {
      "cell_type": "markdown",
      "source": [
        "**Affine Cipher**"
      ],
      "metadata": {
        "id": "Fn-zvBfnqNGl"
      }
    },
    {
      "cell_type": "code",
      "source": [
        "alpha = \"ABCDEFGHIJKLMNOPQRSTUVWXYZ\""
      ],
      "metadata": {
        "id": "zwoB5iX0qXH4"
      },
      "execution_count": 3,
      "outputs": []
    },
    {
      "cell_type": "markdown",
      "source": [
        "1. alpha = \"ABCDEFGHIJKLMNOPQRSTUVWXYZ\" - makes a list of the alphabet \n"
      ],
      "metadata": {
        "id": "Y8tfmH3Eqm8I"
      }
    },
    {
      "cell_type": "markdown",
      "source": [
        "**Part 1**"
      ],
      "metadata": {
        "id": "rxWdsIDCsaC5"
      }
    },
    {
      "cell_type": "code",
      "source": [
        "import math\n",
        "def mod_inverse_helper(a, b):\n",
        "    q, r = a//b, a%b\n",
        "    if r == 1:\n",
        "        return (1, -1 * q)\n",
        "    u, v = mod_inverse_helper(b, r)\n",
        "    return (v, -1 * q * v + u)\n",
        "\n",
        "def mod_inverse(a, m):\n",
        "    assert math.gcd(a, m) == 1, \"You're trying to invert \" + str(a) + \" in mod \" + str(m) + \" and that doesn't work!\"\n",
        "    return mod_inverse_helper(m, a)[1] % m"
      ],
      "metadata": {
        "id": "3LZknWdrqt7D"
      },
      "execution_count": 4,
      "outputs": []
    },
    {
      "cell_type": "markdown",
      "source": [
        "The mod inverse helper is there so we can calculate the inverse and use it to encode and decode later \n"
      ],
      "metadata": {
        "id": "lY93TuQ_q8vJ"
      }
    },
    {
      "cell_type": "code",
      "source": [
        "def affine_encode(text, a, b):\n",
        "  enc_list = []\n",
        "  for i in range (len(text)):\n",
        "    m_num = alpha.index(text[i])\n",
        "    k_num = (m_num * a)\n",
        "    e_num = (k_num + b) %26\n",
        "    enc_list.append(alpha[e_num])\n",
        "  return\"\" . join(enc_list)"
      ],
      "metadata": {
        "id": "99fTDeJntPff"
      },
      "execution_count": 5,
      "outputs": []
    },
    {
      "cell_type": "markdown",
      "source": [
        "This is the encode part. Close to the ceasar shift but we multuply by mod 26. "
      ],
      "metadata": {
        "id": "QufWKSXtUmPn"
      }
    },
    {
      "cell_type": "code",
      "source": [
        "def affine_decode(text, a, b):\n",
        "  dec_list = []\n",
        "  for i in range (len(text)):\n",
        "    m_num = alpha.index(text[i])\n",
        "    k_num = (m_num - b)\n",
        "    e_num = (k_num * mod_inverse(a,26)) %26\n",
        "    dec_list.append(alpha[e_num])\n",
        "  return\"\" . join(dec_list)"
      ],
      "metadata": {
        "id": "1vHT1ZlfUoqq"
      },
      "execution_count": 6,
      "outputs": []
    },
    {
      "cell_type": "markdown",
      "source": [
        "The encode and decode are very similar but there is one specific part that is different. Instead of adding b, we subtract it. \n"
      ],
      "metadata": {
        "id": "nBCyoaE9Uq8_"
      }
    },
    {
      "cell_type": "code",
      "source": [
        "message = \"ENDOFTHESCHOOLYEAR\"\n",
        "a = 3\n",
        "b = 5\n",
        "enc = affine_encode(message,a,b)\n",
        "dec = affine_decode(enc,a,b)\n",
        "print(\"The message is\" , message)\n",
        "print(\"The encoded message is\", enc)\n",
        "print(\"The decoded message is\", dec)"
      ],
      "metadata": {
        "colab": {
          "base_uri": "https://localhost:8080/"
        },
        "id": "91uR-KORWIma",
        "outputId": "c269dda0-932f-437b-e098-25fdac9b668b"
      },
      "execution_count": 7,
      "outputs": [
        {
          "output_type": "stream",
          "name": "stdout",
          "text": [
            "The message is ENDOFTHESCHOOLYEAR\n",
            "The encoded message is RSOVUKARHLAVVMZRFE\n",
            "The decoded message is ENDOFTHESCHOOLYEAR\n"
          ]
        }
      ]
    },
    {
      "cell_type": "markdown",
      "source": [
        "**Part 2**"
      ],
      "metadata": {
        "id": "I-IvBOBPXhm0"
      }
    },
    {
      "cell_type": "code",
      "source": [
        "def convert_to_num(word):\n",
        "  f_num = 0\n",
        "  for i in range(len(word)):\n",
        "    k = alpha.index(word[i])\n",
        "    exp = 26**i\n",
        "    f_num += k*exp # a =+ b -> a=a+b\n",
        "    \n",
        "  return f_num"
      ],
      "metadata": {
        "id": "L1kfH6pfXkvk"
      },
      "execution_count": 8,
      "outputs": []
    },
    {
      "cell_type": "markdown",
      "source": [
        "This converts the text to a number. \n",
        "\n",
        "\n",
        "*   The index of each letter in alpha is added to different powers of 26\n",
        "*   The powers of 26 increases linearly\n",
        "*   The numbers are added all together \n",
        "\n",
        "\n",
        "\n"
      ],
      "metadata": {
        "id": "4OFaFhNoXoBU"
      }
    },
    {
      "cell_type": "markdown",
      "source": [
        "Lets do an example: convert water to a number"
      ],
      "metadata": {
        "id": "13vQff0YZQAu"
      }
    },
    {
      "cell_type": "code",
      "source": [
        "p2 = \"WATER\"\n",
        "ex1 = convert_to_num(p2)\n",
        "print(\"The word we want to convert is\", p2)\n",
        "print(\"The number is\", ex1)"
      ],
      "metadata": {
        "colab": {
          "base_uri": "https://localhost:8080/"
        },
        "id": "ABzqfVNyZVoz",
        "outputId": "90f5e535-01e3-4e56-b36a-efd633fc736f"
      },
      "execution_count": 9,
      "outputs": [
        {
          "output_type": "stream",
          "name": "stdout",
          "text": [
            "The word we want to convert is WATER\n",
            "The number is 7851762\n"
          ]
        }
      ]
    },
    {
      "cell_type": "code",
      "source": [
        "def convert_to_text(num, n):\n",
        "  text_list = []\n",
        "  for i in range(n):\n",
        "    f_let = num%26\n",
        "    num = (num//26)\n",
        "    text_list.append(alpha[f_let])\n",
        "    \n",
        "  return\"\".join(text_list)"
      ],
      "metadata": {
        "id": "eH1rSq4-aa5t"
      },
      "execution_count": 1,
      "outputs": []
    },
    {
      "cell_type": "markdown",
      "source": [
        "This converts a number to text.\n",
        "*   This takes two arguments \n",
        "\n"
      ],
      "metadata": {
        "id": "0PhtCZJoaxhb"
      }
    },
    {
      "cell_type": "code",
      "source": [
        "test = \"THEQUICKBROWNFOXJUMPEDOVERTHELAZYDOG\"\n",
        "l = len(test)\n",
        "num = convert_to_num(test)\n",
        "answer = convert_to_text(num, l)\n",
        "print(num)\n",
        "print(\"answer\",answer)"
      ],
      "metadata": {
        "colab": {
          "base_uri": "https://localhost:8080/"
        },
        "id": "31pSk--dgTBX",
        "outputId": "aa6249b5-d8dc-4b03-9879-46072a5729f3"
      },
      "execution_count": 10,
      "outputs": [
        {
          "output_type": "stream",
          "name": "stdout",
          "text": [
            "218741750267309021256255930435388550208768849997977\n",
            "answer THEQUICKBROWNFOXJUMPEDOVERTHELAZYDOG\n"
          ]
        }
      ]
    },
    {
      "cell_type": "markdown",
      "source": [
        "**Part 3**"
      ],
      "metadata": {
        "id": "BXzD_QwvgTs_"
      }
    },
    {
      "cell_type": "code",
      "source": [
        "def affine_n_encode(text, n, a, b):\n",
        "  r = len(text)%n \n",
        "  more = n - r\n",
        "  final_text = text + \"X\" * more \n",
        "  enc_list = []\n",
        "  for location in range(0,len(text), n): \n",
        "    ngram = final_text[location:location+n] \n",
        "    num = convert_to_num(ngram)  \n",
        "    af_num = (num*a + b) % (26**n) \n",
        "    af_letter = convert_to_text(af_num, n) # \n",
        "    enc_list.append(af_letter) #\n",
        "  \n",
        "  return ''.join(enc_list) "
      ],
      "metadata": {
        "id": "8clFdJtegiho"
      },
      "execution_count": null,
      "outputs": []
    },
    {
      "cell_type": "markdown",
      "source": [
        "*   r = len(text)%n - how many grams can we split the text into \n",
        "*   more = n - r - gives me the number of extra letters \n",
        "*   final_text = text + \"X\" * more - this fills in the empty sopts with x to make it equal \n",
        "*   enc_list = [] - makes an epmty list \n",
        "*   for location in range(0,len(text), n): - range\n",
        "*   ngram = final_text[location:location+n] - groups the letters by five \n",
        "*   num = convert_to_num(ngram) - converts it to a number \n",
        "*   af_num = (num*a + b) % (26**n) - affine part one \n",
        "*   af_letter = convert_to_text(af_num, n) - turns it to text \n",
        "\n",
        "\n",
        "\n",
        "\n",
        "\n",
        "\n",
        "\n",
        "\n",
        "\n"
      ],
      "metadata": {
        "id": "QyHYfn4sgozP"
      }
    },
    {
      "cell_type": "code",
      "source": [
        "def affine_n_decode(text, n, a, b):\n",
        "  dec_list = []\n",
        "  a_inv = mod_inverse(a,26**n)\n",
        "  for i in range(0,len(text),n):\n",
        "    ngram = text[i:i+n]\n",
        "    num = convert_to_num(ngram)\n",
        "    af_num = ((num-b) * a_inv) % (26**n)\n",
        "    af_letter = convert_to_text(af_num,n)\n",
        "    dec_list.append(af_letter)\n",
        "    \n",
        "  \n",
        "  return ''.join(dec_list)"
      ],
      "metadata": {
        "id": "yUrwwtHUg0sM"
      },
      "execution_count": null,
      "outputs": []
    },
    {
      "cell_type": "markdown",
      "source": [
        ""
      ],
      "metadata": {
        "id": "dU3MYIoOjxaS"
      }
    },
    {
      "cell_type": "code",
      "source": [
        "test = \"THEQUICKBROWNFOXJUMPEDOVERTHELAZYDOG\"\n",
        "n = 5\n",
        "a = 347\n",
        "b = 1721\n",
        "enc = affine_n_encode(test, n, a, b)\n",
        "dec = affine_n_decode(enc, n, a, b)\n",
        "print(enc, dec)"
      ],
      "metadata": {
        "id": "ubt7G0nojxr3"
      },
      "execution_count": null,
      "outputs": []
    },
    {
      "cell_type": "markdown",
      "source": [
        "This calls in everything "
      ],
      "metadata": {
        "id": "18jizWpjjyuD"
      }
    }
  ]
}